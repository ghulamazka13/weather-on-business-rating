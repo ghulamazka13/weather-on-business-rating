{
 "cells": [
  {
   "cell_type": "code",
   "execution_count": null,
   "id": "ccde0641",
   "metadata": {},
   "outputs": [],
   "source": [
    "# Import library\n",
    "import pandas as pd\n",
    "\n",
    "# Read json Data\n",
    "#df = pd.read_json(r\"file_name.json\", nrows=5, lines=True) -> 'nrows' for row limitter\n",
    "df = pd.read_json(r\"D:\\Dana\\yelp_academic_dataset_business\", nrows=1000, lines=True)\n",
    "\n",
    "#export as csv\n",
    "df.to_csv('business.csv')\n",
    "\n",
    "#export as parquet\n",
    "df.to_parquet('business.parquet')"
   ]
  }
 ],
 "metadata": {
  "kernelspec": {
   "display_name": "Python 3 (ipykernel)",
   "language": "python",
   "name": "python3"
  },
  "language_info": {
   "codemirror_mode": {
    "name": "ipython",
    "version": 3
   },
   "file_extension": ".py",
   "mimetype": "text/x-python",
   "name": "python",
   "nbconvert_exporter": "python",
   "pygments_lexer": "ipython3",
   "version": "3.9.7"
  }
 },
 "nbformat": 4,
 "nbformat_minor": 5
}
